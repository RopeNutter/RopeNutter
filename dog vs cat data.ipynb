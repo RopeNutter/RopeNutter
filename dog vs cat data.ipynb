{
 "cells": [
  {
   "cell_type": "code",
   "execution_count": 126,
   "metadata": {},
   "outputs": [],
   "source": [
    "import cv2\n",
    "import numpy as np\n",
    "import random\n",
    "import matplotlib.pyplot as plt\n",
    "import pickle\n",
    "import os"
   ]
  },
  {
   "cell_type": "code",
   "execution_count": 127,
   "metadata": {},
   "outputs": [],
   "source": [
    "DATADIR = os.path.join('D:\\Datasets\\PetImages')\n",
    "CATEGORIES = ['Dog', 'Cat']\n",
    "IMG_SIZE = 75"
   ]
  },
  {
   "cell_type": "code",
   "execution_count": 128,
   "metadata": {},
   "outputs": [],
   "source": [
    "def CREATE_TRAINING_DATA():    \n",
    "    for category in CATEGORIES:\n",
    "        PATH = os.path.join(DATADIR,category)\n",
    "        CLASS_NUM = CATEGORIES.index(category)\n",
    "        for IMG in os.listdir(PATH):\n",
    "            try:\n",
    "                IMG_ARRAY = cv2.imread(os.path.join(PATH,IMG), cv2.IMREAD_GRAYSCALE)\n",
    "                NEW_ARRAY = cv2.resize(IMG_ARRAY, (IMG_SIZE, IMG_SIZE))\n",
    "                TRAINING_DATA.append([NEW_ARRAY, CLASS_NUM])\n",
    "            except Exception as e:\n",
    "                pass"
   ]
  },
  {
   "cell_type": "code",
   "execution_count": 129,
   "metadata": {},
   "outputs": [],
   "source": [
    "TRAINING_DATA = []\n",
    "CREATE_TRAINING_DATA()\n",
    "random.shuffle(TRAINING_DATA)"
   ]
  },
  {
   "cell_type": "code",
   "execution_count": 130,
   "metadata": {},
   "outputs": [],
   "source": [
    "CREATE_TRAINING_DATA()\n",
    "random.shuffle(TRAINING_DATA)"
   ]
  },
  {
   "cell_type": "code",
   "execution_count": 131,
   "metadata": {},
   "outputs": [],
   "source": [
    "X = []\n",
    "y = []"
   ]
  },
  {
   "cell_type": "code",
   "execution_count": 132,
   "metadata": {},
   "outputs": [],
   "source": [
    "for element in TRAINING_DATA:\n",
    "    X.append(element[0])\n",
    "    y.append(element[1])"
   ]
  },
  {
   "cell_type": "code",
   "execution_count": 133,
   "metadata": {},
   "outputs": [
    {
     "name": "stdout",
     "output_type": "stream",
     "text": [
      "49892\n",
      "49892\n",
      "49892\n"
     ]
    }
   ],
   "source": [
    "print(len(TRAINING_DATA))\n",
    "print(len(X))\n",
    "print(len(y))"
   ]
  },
  {
   "cell_type": "code",
   "execution_count": 134,
   "metadata": {},
   "outputs": [],
   "source": [
    "X = np.array(X)  #.reshape(-1, IMG_SIZE,IMG_SIZE, 1)\n",
    "y = np.array(y)"
   ]
  },
  {
   "cell_type": "code",
   "execution_count": 135,
   "metadata": {},
   "outputs": [],
   "source": [
    "pickle.dump(X, open('X.pickle', 'wb'))\n",
    "pickle.dump(y, open('y.pickle', 'wb'))"
   ]
  },
  {
   "cell_type": "code",
   "execution_count": 136,
   "metadata": {
    "scrolled": false
   },
   "outputs": [
    {
     "name": "stdout",
     "output_type": "stream",
     "text": [
      "DONE!\n"
     ]
    }
   ],
   "source": [
    "print(\"DONE!\")"
   ]
  },
  {
   "cell_type": "code",
   "execution_count": null,
   "metadata": {},
   "outputs": [],
   "source": []
  },
  {
   "cell_type": "code",
   "execution_count": 137,
   "metadata": {},
   "outputs": [
    {
     "name": "stdout",
     "output_type": "stream",
     "text": [
      "[[[209 230 238 ... 234 195 225]\n",
      "  [217 210 214 ... 198 221 203]\n",
      "  [209 205 222 ... 216 216 197]\n",
      "  ...\n",
      "  [232 236 241 ... 141  94  84]\n",
      "  [226 225 236 ... 148 134 130]\n",
      "  [228 224 231 ... 153 134 155]]\n",
      "\n",
      " [[ 38  42  37 ...  27  28  27]\n",
      "  [ 39  44  39 ...  30  29  28]\n",
      "  [ 43  43  39 ...  32  29  29]\n",
      "  ...\n",
      "  [ 33  34  36 ... 107  45  41]\n",
      "  [ 31  36  37 ... 120  77  25]\n",
      "  [ 34  36  37 ...  55  75  47]]\n",
      "\n",
      " [[ 43  44  45 ...  62  59  59]\n",
      "  [ 40  39  39 ...  57  61  56]\n",
      "  [ 41  40  40 ...  61  57  59]\n",
      "  ...\n",
      "  [199 190 177 ... 160 146 146]\n",
      "  [213 214 211 ... 182 172 174]\n",
      "  [211 194 198 ... 183 174 189]]\n",
      "\n",
      " ...\n",
      "\n",
      " [[ 49  48  52 ... 236 254 254]\n",
      "  [ 42  45  49 ...  60  58  60]\n",
      "  [ 36  34  47 ...  66  65  61]\n",
      "  ...\n",
      "  [ 58  58  58 ...  32  37  38]\n",
      "  [ 55  63  62 ...  29  35  50]\n",
      "  [ 46  51  55 ...  32  41  35]]\n",
      "\n",
      " [[110 121 106 ... 196 189 195]\n",
      "  [117 109 103 ... 204 214 209]\n",
      "  [137 117 122 ... 162 197 205]\n",
      "  ...\n",
      "  [ 65  50  82 ... 180 189 187]\n",
      "  [ 85  84  77 ... 191 194 195]\n",
      "  [ 88  96 125 ... 196 193 194]]\n",
      "\n",
      " [[184 157 194 ... 155 110 111]\n",
      "  [207 227 184 ... 193 143  90]\n",
      "  [159 165 181 ... 181 153 136]\n",
      "  ...\n",
      "  [ 23  58 131 ... 136 123 131]\n",
      "  [ 23  55  83 ... 147 104 132]\n",
      "  [ 34 119  29 ... 143 142 136]]]\n"
     ]
    }
   ],
   "source": [
    "print(X)"
   ]
  },
  {
   "cell_type": "code",
   "execution_count": null,
   "metadata": {},
   "outputs": [],
   "source": []
  },
  {
   "cell_type": "code",
   "execution_count": null,
   "metadata": {},
   "outputs": [],
   "source": []
  },
  {
   "cell_type": "code",
   "execution_count": null,
   "metadata": {},
   "outputs": [],
   "source": []
  },
  {
   "cell_type": "code",
   "execution_count": null,
   "metadata": {},
   "outputs": [],
   "source": []
  },
  {
   "cell_type": "code",
   "execution_count": null,
   "metadata": {},
   "outputs": [],
   "source": []
  }
 ],
 "metadata": {
  "kernelspec": {
   "display_name": "gpuflow",
   "language": "python",
   "name": "gpuflow"
  },
  "language_info": {
   "codemirror_mode": {
    "name": "ipython",
    "version": 3
   },
   "file_extension": ".py",
   "mimetype": "text/x-python",
   "name": "python",
   "nbconvert_exporter": "python",
   "pygments_lexer": "ipython3",
   "version": "3.7.7"
  }
 },
 "nbformat": 4,
 "nbformat_minor": 4
}
